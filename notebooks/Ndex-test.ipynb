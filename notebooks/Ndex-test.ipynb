{
 "cells": [
  {
   "cell_type": "code",
   "execution_count": null,
   "metadata": {
    "collapsed": false
   },
   "outputs": [],
   "source": [
    "import requests\n",
    "import json\n",
    "\n",
    "BASE = 'http://192.168.99.100:3001/'\n",
    "private_net1 = '1f4ae711-b641-11e5-b3f0-0251251672f9'\n",
    "\n",
    "\n",
    "res = requests.get(BASE)\n",
    "print(json.dumps(res.json(), indent=4))"
   ]
  },
  {
   "cell_type": "code",
   "execution_count": null,
   "metadata": {
    "collapsed": false
   },
   "outputs": [],
   "source": [
    "idlist = [\n",
    "    \"c51ebcc8-b336-11e5-b3f0-0251251672f9\", \n",
    "    \"808ad3c4-ae70-11e5-9c46-0251251672f9\", \n",
    "    \"7fdfedc3-ae70-11e5-9c46-0251251672f9\", \n",
    "    \"7ef84ce2-ae70-11e5-9c46-0251251672f9\", \n",
    "    \"d4e31748-9ec0-11e5-9dd0-0251251672f9\", \n",
    "    \"9bbffab3-9e15-11e5-9dd0-0251251672f9\"]\n",
    "\n",
    "q = {\n",
    "    \"ids\": idlist\n",
    "}\n",
    "\n",
    "res = requests.post(BASE+'generator', json=q)\n",
    "print(json.dumps(res.json(), indent=4))"
   ]
  },
  {
   "cell_type": "code",
   "execution_count": null,
   "metadata": {
    "collapsed": false
   },
   "outputs": [],
   "source": [
    "# NDEx API test\n",
    "NDEX = 'http://dev2.ndexbio.org/rest/'\n",
    "\n",
    "# Test public network\n",
    "pub_net1 = '9bbffab3-9e15-11e5-9dd0-0251251672f9'\n",
    "res = requests.get(NDEX+'network/' + pub_net1 + '/asCX')\n",
    "print(res.status_code)"
   ]
  },
  {
   "cell_type": "code",
   "execution_count": null,
   "metadata": {
    "collapsed": false
   },
   "outputs": [],
   "source": [
    "# This fails! (401)\n",
    "res = requests.get(NDEX+'network/' + private_net1 + '/asCX')\n",
    "res"
   ]
  },
  {
   "cell_type": "code",
   "execution_count": null,
   "metadata": {
    "collapsed": false
   },
   "outputs": [],
   "source": [
    "# Test NDEx Authentication\n",
    "AUTH = '/user/authenticate'\n",
    "s = requests.session()\n",
    "s.auth = ('keiono', '')\n",
    "res = s.get(NDEX+AUTH)\n",
    "\n",
    "print( res.json() )"
   ]
  },
  {
   "cell_type": "code",
   "execution_count": null,
   "metadata": {
    "collapsed": false
   },
   "outputs": [],
   "source": [
    "# Now it should work...\n",
    "res = s.get(NDEX+'network/' + private_net1 + '/asCX')\n",
    "res.json()"
   ]
  }
 ],
 "metadata": {
  "kernelspec": {
   "display_name": "Python 3",
   "language": "python",
   "name": "python3"
  },
  "language_info": {
   "codemirror_mode": {
    "name": "ipython",
    "version": 3
   },
   "file_extension": ".py",
   "mimetype": "text/x-python",
   "name": "python",
   "nbconvert_exporter": "python",
   "pygments_lexer": "ipython3",
   "version": "3.4.3"
  }
 },
 "nbformat": 4,
 "nbformat_minor": 0
}
