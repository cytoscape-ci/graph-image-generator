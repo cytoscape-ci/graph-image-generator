{
 "cells": [
  {
   "cell_type": "code",
   "execution_count": 11,
   "metadata": {
    "collapsed": false
   },
   "outputs": [
    {
     "name": "stdout",
     "output_type": "stream",
     "text": [
      "{\n",
      "    \"version\": \"v1\",\n",
      "    \"serviceName\": \"Image generator queue\",\n",
      "    \"description\": \"Generate image from list of NDEx IDs\"\n",
      "}\n"
     ]
    }
   ],
   "source": [
    "import requests\n",
    "import json\n",
    "\n",
    "BASE = 'http://192.168.99.100:3001/'\n",
    "\n",
    "res = requests.get(BASE)\n",
    "print(json.dumps(res.json(), indent=4))"
   ]
  },
  {
   "cell_type": "code",
   "execution_count": 22,
   "metadata": {
    "collapsed": false
   },
   "outputs": [
    {
     "name": "stdout",
     "output_type": "stream",
     "text": [
      "{\n",
      "    \"imageLocations\": [\n",
      "        \"http://example.com/c51ebcc8-b336-11e5-b3f0-0251251672f9.svg\\n\",\n",
      "        \"http://example.com/808ad3c4-ae70-11e5-9c46-0251251672f9.svg\\n\",\n",
      "        \"http://example.com/7fdfedc3-ae70-11e5-9c46-0251251672f9.svg\\n\",\n",
      "        \"http://example.com/7ef84ce2-ae70-11e5-9c46-0251251672f9.svg\\n\",\n",
      "        \"http://example.com/d4e31748-9ec0-11e5-9dd0-0251251672f9.svg\\n\",\n",
      "        \"http://example.com/9bbffab3-9e15-11e5-9dd0-0251251672f9.svg\\n\"\n",
      "    ]\n",
      "}\n"
     ]
    }
   ],
   "source": [
    "idlist = [\n",
    "    \"c51ebcc8-b336-11e5-b3f0-0251251672f9\", \n",
    "    \"808ad3c4-ae70-11e5-9c46-0251251672f9\", \n",
    "    \"7fdfedc3-ae70-11e5-9c46-0251251672f9\", \n",
    "    \"7ef84ce2-ae70-11e5-9c46-0251251672f9\", \n",
    "    \"d4e31748-9ec0-11e5-9dd0-0251251672f9\", \n",
    "    \"9bbffab3-9e15-11e5-9dd0-0251251672f9\"]\n",
    "\n",
    "res = requests.post(BASE+'generator', json=idlist)\n",
    "print(json.dumps(res.json(), indent=4))"
   ]
  }
 ],
 "metadata": {
  "kernelspec": {
   "display_name": "Python 3",
   "language": "python",
   "name": "python3"
  }
 },
 "nbformat": 4,
 "nbformat_minor": 0
}
