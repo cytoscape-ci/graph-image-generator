{
 "cells": [
  {
   "cell_type": "markdown",
   "metadata": {},
   "source": [
    "# Image Generator service from list of NDEx IDs"
   ]
  },
  {
   "cell_type": "code",
   "execution_count": null,
   "metadata": {
    "collapsed": false
   },
   "outputs": [],
   "source": [
    "import requests\n",
    "import json\n",
    "\n",
    "BASE = 'http://192.168.99.100:3001/'\n",
    "NDEX = 'http://dev2.ndexbio.org/rest/'\n",
    "\n",
    "\n",
    "# Private network blongs to ID 'keiono'\n",
    "private_net1 = '1f4ae711-b641-11e5-b3f0-0251251672f9'\n",
    "\n",
    "res = requests.get(BASE)\n",
    "print(json.dumps(res.json(), indent=4))"
   ]
  },
  {
   "cell_type": "code",
   "execution_count": null,
   "metadata": {
    "collapsed": false
   },
   "outputs": [],
   "source": [
    "# Get list of public networks\n",
    "search_q = {\n",
    "    'searchString': '*'\n",
    "}\n",
    "res = requests.post(NDEX + 'network/search/0/10', json=search_q)\n",
    "network_list = res.json()\n",
    "ids = [x['externalId'] for x in network_list]\n",
    "\n",
    "print( ids)\n",
    "print(len(ids))"
   ]
  },
  {
   "cell_type": "code",
   "execution_count": null,
   "metadata": {
    "collapsed": false
   },
   "outputs": [],
   "source": [
    "q = {\n",
    "    \"ids\": ['c51ebcc8-b336-11e5-b3f0-0251251672f9']\n",
    "}\n",
    "\n",
    "big_network = '4d83d037-b649-11e5-b3f0-0251251672f9'\n",
    "\n",
    "q2 = {\n",
    "    \"ids\": ids\n",
    "}\n",
    "\n",
    "\n",
    "res = requests.post(BASE+'generator', json=q)\n",
    "\n",
    "res.json()"
   ]
  },
  {
   "cell_type": "code",
   "execution_count": null,
   "metadata": {
    "collapsed": false
   },
   "outputs": [],
   "source": [
    "# This fails! (401)\n",
    "res = requests.get(NDEX+'network/' + private_net1 + '/asCX')\n",
    "res"
   ]
  },
  {
   "cell_type": "markdown",
   "metadata": {},
   "source": [
    "## Access private networks"
   ]
  },
  {
   "cell_type": "code",
   "execution_count": null,
   "metadata": {
    "collapsed": false
   },
   "outputs": [],
   "source": [
    "q3 = {\n",
    "    \"ids\": [private_net1, 'c51ebcc8-b336-11e5-b3f0-0251251672f9'],\n",
    "    \"credential\": {\n",
    "        \"id\": \"keiono\",\n",
    "        \"password\": ''\n",
    "    }\n",
    "}\n",
    "\n",
    "\n",
    "res = requests.post(BASE+'generator', json=q3)\n",
    "res"
   ]
  },
  {
   "cell_type": "code",
   "execution_count": null,
   "metadata": {
    "collapsed": false
   },
   "outputs": [],
   "source": [
    "import boto3\n",
    "import uuid\n",
    "\n",
    "s3client = boto3.client('s3')\n",
    "\n",
    "bucket_name = 'ci-service-data'\n",
    "print('Creating new bucket with name: {}'.format(bucket_name))\n",
    "\n",
    "data = open('test1.svg', 'rb')\n",
    "\n",
    "s3client.put_object(Bucket=bucket_name, Key=\"test1.svg\", Body=data)\n",
    "\n"
   ]
  },
  {
   "cell_type": "code",
   "execution_count": null,
   "metadata": {
    "collapsed": false
   },
   "outputs": [],
   "source": [
    "# POST image\n",
    "\n",
    "imagec = \"http://52.11.186.198:8080/v1/image-cache/image/svg/test1\"\n",
    "\n",
    "files = {'media': open('test1.svg', 'rb')}\n",
    "res1 = requests.post(imagec, files=files)\n"
   ]
  },
  {
   "cell_type": "code",
   "execution_count": null,
   "metadata": {
    "collapsed": false
   },
   "outputs": [],
   "source": [
    "res1.content\n"
   ]
  }
 ],
 "metadata": {
  "kernelspec": {
   "display_name": "Python 3",
   "language": "python",
   "name": "python3"
  },
  "language_info": {
   "codemirror_mode": {
    "name": "ipython",
    "version": 3
   },
   "file_extension": ".py",
   "mimetype": "text/x-python",
   "name": "python",
   "nbconvert_exporter": "python",
   "pygments_lexer": "ipython3",
   "version": "3.4.3"
  }
 },
 "nbformat": 4,
 "nbformat_minor": 0
}
