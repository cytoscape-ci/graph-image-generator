{
 "cells": [
  {
   "cell_type": "code",
   "execution_count": null,
   "metadata": {
    "collapsed": false,
    "scrolled": false
   },
   "outputs": [],
   "source": [
    "import luigi\n",
    "\n",
    "import requests\n",
    "\n",
    "# This is your service IP address.  You need to modify this!\n",
    "BASE = 'http://192.168.99.100:5000/'\n",
    "\n",
    "class Build(luigi.WrapperTask):\n",
    "\n",
    "    def run(self):\n",
    "        print(\"Finished----------------------\")\n",
    "\n",
    "    def requires(self):\n",
    "        for i in range(10):\n",
    "            yield GenerateImage(i)\n",
    "\n",
    "\n",
    "class GenerateImage(luigi.Task):\n",
    "    \n",
    "    num = luigi.IntParameter()\n",
    " \n",
    "    def requires(self):\n",
    "        return []\n",
    " \n",
    "    def output(self):\n",
    "        return luigi.LocalTarget(\"graph_image_\" + str(self.num) + \".svg\")\n",
    "    \n",
    "    # Helper function to POST a local CX file\n",
    "    def post_file(self, url, file_name):\n",
    "        with open(file_name, 'r') as f:\n",
    "            return requests.post(url, data=f)\n",
    " \n",
    "    def run(self):\n",
    "        with self.output().open('w') as f:\n",
    "            svg_image_url = BASE + 'image/svg'\n",
    "            res = self.post_file(svg_image_url, 'gal_filtered_2.json')\n",
    "            f.write(res.content.decode('utf-8'))\n",
    "\n",
    "if __name__ == '__main__':\n",
    "    luigi.run(['Build', '--workers', '10', '--local-scheduler'])"
   ]
  }
 ],
 "metadata": {
  "kernelspec": {
   "display_name": "Python 3",
   "language": "python",
   "name": "python3"
  },
  "language_info": {
   "codemirror_mode": {
    "name": "ipython",
    "version": 3
   },
   "file_extension": ".py",
   "mimetype": "text/x-python",
   "name": "python",
   "nbconvert_exporter": "python",
   "pygments_lexer": "ipython3",
   "version": "3.4.3"
  }
 },
 "nbformat": 4,
 "nbformat_minor": 0
}
